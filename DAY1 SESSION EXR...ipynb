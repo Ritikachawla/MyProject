{
 "cells": [
  {
   "cell_type": "markdown",
   "metadata": {},
   "source": [
    "# <h1>DAY:1</h1>\n",
    "## <h2>SESSION:1</h2>\n",
    "### <h3><i>IN SESSION EXERSICE:</i></h3>\n"
   ]
  },
  {
   "cell_type": "code",
   "execution_count": 41,
   "metadata": {},
   "outputs": [],
   "source": [
    "infected_total_till_date=1234\n",
    "infected_on_10th_june_2020=12\n",
    "infected_on_11th_june_2020=2\n",
    "infected_on_12th_june_2020=13\n",
    "District=\"Gwalior\"\n",
    "#REPORT THE PERCENTAGE CHANGE IN THE INFECTED IN THE GIVEN THREE DAYS.."
   ]
  },
  {
   "cell_type": "code",
   "execution_count": 23,
   "metadata": {},
   "outputs": [
    {
     "name": "stdout",
     "output_type": "stream",
     "text": [
      "500.0\n",
      "550.0\n",
      "8.333333333333332\n",
      "Gwalior\n"
     ]
    }
   ],
   "source": [
    "infected_total_till_date=1234\n",
    "infected_on_10th_june_2020=12\n",
    "infected_on_11th_june_2020=2\n",
    "infected_on_12th_june_2020=13\n",
    "District=\"Gwalior\"\n",
    "#PERCENT CHANGE IN 10TH JUNE AND 11TH JUNE\n",
    "percent_decrement_infected=((infected_on_10th_june_2020-\n",
    "infected_on_11th_june_2020)/infected_on_11th_june_2020)*100\n",
    "print(percent_decrement_infected)\n",
    "#PERCENT CHANGE IN 11TH JUNE AND 12TH JUNE\n",
    "percent_increment_infected=((infected_on_12th_june_2020-\n",
    "infected_on_11th_june_2020)/infected_on_11th_june_2020)*100\n",
    "print(percent_increment_infected)\n",
    "#PERCENT CHANGE IN 10TH JUNE AND 12TH JUNE\n",
    "percent_increment1_infected=((infected_on_12th_june_2020-\n",
    "infected_on_10th_june_2020)/infected_on_10th_june_2020)*100\n",
    "print(percent_increment1_infected)\n",
    "print(District)\n",
    "\n",
    "\n",
    "\n"
   ]
  },
  {
   "cell_type": "code",
   "execution_count": 36,
   "metadata": {},
   "outputs": [
    {
     "name": "stdout",
     "output_type": "stream",
     "text": [
      "The new variable comes from my Full Name  Ritika Roy Kapoor is d\n"
     ]
    }
   ],
   "source": [
    "#Take three variables and give 3 names (first, middle and last) and use concatenation to create a new variable with your name..\n",
    "\n",
    "a=\"Ritika\" #first name\n",
    "b=\"Roy\" #midddle name\n",
    "c=\"Kapoor\" #last name\n",
    "d=a+\" \"+b+\" \"+c #concatenation\n",
    "print(\"The new variable comes from my Full Name  {} is d\".format(d))\n"
   ]
  },
  {
   "cell_type": "markdown",
   "metadata": {},
   "source": [
    "## <h2>SESSION:2</h2>\n",
    "### <h3><i>IN SESSION EXERSICE:</i></h3>\n"
   ]
  },
  {
   "cell_type": "code",
   "execution_count": 7,
   "metadata": {},
   "outputs": [
    {
     "name": "stdout",
     "output_type": "stream",
     "text": [
      "['Maharashtra', 'Tamil Nadu', 'Delhi', 'Gujrat', 'Uttar Pradesh']\n"
     ]
    }
   ],
   "source": [
    "my_list1=[\"Maharashtra\",\"Tamil Nadu\",\"Delhi\",\"Gujrat\",\"Uttar Pradesh\"]\n",
    "print(my_list1)"
   ]
  },
  {
   "cell_type": "code",
   "execution_count": 8,
   "metadata": {},
   "outputs": [
    {
     "name": "stdout",
     "output_type": "stream",
     "text": [
      "[83311, 44959, 25940, 7981, 7627]\n"
     ]
    }
   ],
   "source": [
    "my_list2=[83311,44959,25940,7981,7627]\n",
    "print(my_list2)"
   ]
  },
  {
   "cell_type": "code",
   "execution_count": 9,
   "metadata": {},
   "outputs": [
    {
     "name": "stdout",
     "output_type": "stream",
     "text": [
      "(108082, 60592, 68256, 25406, 18154)\n"
     ]
    }
   ],
   "source": [
    "tuple=(108082,60592,68256,25406,18154)\n",
    "print(tuple)"
   ]
  },
  {
   "cell_type": "code",
   "execution_count": 12,
   "metadata": {},
   "outputs": [
    {
     "name": "stdout",
     "output_type": "stream",
     "text": [
      "{'Maharashtra': 83311, 'Tamil Nadu': 44956, 'Delhi': 25940, 'Gujrat': 7981, 'Uttar Pradesh': 7627}\n"
     ]
    },
    {
     "data": {
      "text/plain": [
       "25940"
      ]
     },
     "execution_count": 12,
     "metadata": {},
     "output_type": "execute_result"
    }
   ],
   "source": [
    "my_dict={\"Maharashtra\":83311,\"Tamil Nadu\":44956,\"Delhi\":25940,\"Gujrat\":7981,\"Uttar Pradesh\":7627}\n",
    "print(my_dict)\n",
    "my_dict[\"Delhi\"]\n"
   ]
  },
  {
   "cell_type": "markdown",
   "metadata": {},
   "source": [
    "# <h1>DAY:1</h1>\n",
    "## <h2>SESSION:2</h2>\n",
    "### <h3><i>TAKE HOME EXERSICE:(THE #1)</i></h3>\n"
   ]
  },
  {
   "cell_type": "code",
   "execution_count": 23,
   "metadata": {},
   "outputs": [
    {
     "name": "stdout",
     "output_type": "stream",
     "text": [
      "['Andaman and nicobar', 'Andhra Pradesh', 'Arunachal Pradesh', 'Assam', 'Bihar', 'Chandigarh', 'Chhattisgarh', 'Dadra and Nagar Haveli', 'Delhi', 'Goa', 'Gujarat', 'Haryana', 'Himachal Pradesh', 'Jammu and Kashmir', 'Jharkhand', 'Karnataka', 'Kerala', 'Ladakh', 'Lakshadweep', 'Madhya Pradesh', 'Maharashtra', 'Manipur', 'Meghalaya', 'Mizoram', 'Nagaland', 'Odisha', 'Puducherry', 'Punjab', 'Rajasthan', 'Sikkim', 'Tamil Nadu', 'Telengana', 'Tripura', 'Uttar Pradesh', 'Uttarakhand', 'West Bengal']\n"
     ]
    }
   ],
   "source": [
    "list1=[\"Andaman and nicobar\",\"Andhra Pradesh\",\"Arunachal Pradesh\",\"Assam\",\"Bihar\",\"Chandigarh\",\"Chhattisgarh\",\n",
    "\"Dadra and Nagar Haveli\",\"Delhi\",\"Goa\",\"Gujarat\",\"Haryana\",\"Himachal Pradesh\",\"Jammu and Kashmir\",\"Jharkhand\",\"Karnataka\",\n",
    "\"Kerala\",\"Ladakh\",\"Lakshadweep\",\"Madhya Pradesh\",\"Maharashtra\",\"Manipur\",\"Meghalaya\",\"Mizoram\",\"Nagaland\",\"Odisha\",\"Puducherry\",\n",
    "\"Punjab\",\"Rajasthan\",\"Sikkim\",\"Tamil Nadu\",\"Telengana\",\"Tripura\",\"Uttar Pradesh\",\"Uttarakhand\",\"West Bengal\"]\n",
    "print(list1)"
   ]
  },
  {
   "cell_type": "code",
   "execution_count": 25,
   "metadata": {},
   "outputs": [
    {
     "name": "stdout",
     "output_type": "stream",
     "text": [
      "[53, 9473, 182, 3997, 2925, 59, 598, 175, 25940, 853, 7981, 4031, 331, 2976, 687, 11970, 2131, 178, 0, 2772, 83311, 658, 18, 34, 335, 2633, 459, 1641, 3445, 45, 44959, 10487, 343, 7627, 549, 6329]\n"
     ]
    }
   ],
   "source": [
    "list2=[53,9473,182,3997,2925,59,598,175,25940,853,7981,4031,331,2976,687,11970,2131,178,0,2772,83311,658,18,34,335,2633,459,\n",
    "1641,3445,45,44959,10487,343,7627,549,6329]\n",
    "print(list2)"
   ]
  },
  {
   "cell_type": "code",
   "execution_count": 28,
   "metadata": {},
   "outputs": [
    {
     "name": "stdout",
     "output_type": "stream",
     "text": [
      "(8008, 76, 6657, 8686, 395, 2549, 96, 68256, 825, 25406, 12257, 704, 5143, 2035, 9244, 3048, 826, 0, 11234, 108082, 667, 43, 130, 228, 5934, 331, 4306, 15640, 58, 60592, 11537, 1202, 18154, 2502, 14166)\n"
     ]
    }
   ],
   "source": [
    "tuple=(8008,76,6657,8686,395,2549,96,68256,825,25406,12257,704,5143,2035,9244,3048,826,0,11234,108082,667,43,130,228,5934,331,\n",
    "4306,15640,58,60592,11537,1202,18154,2502,14166)\n",
    "print(tuple)"
   ]
  },
  {
   "cell_type": "code",
   "execution_count": 34,
   "metadata": {},
   "outputs": [
    {
     "name": "stdout",
     "output_type": "stream",
     "text": [
      "{'Andaman and nicobar': 53, 'Andhra Pradesh': 9473, 'Arunachal Pradesh': 182, 'Assam': 3997, 'Bihar': 2925, 'Chandigarh': 59, 'Chhattisgarh': 598, 'Dadra and Nagar Haveli': 175, 'Delhi': 25940, 'Goa': 853, 'Gujarat': 7981, 'Haryana': 4031, 'Himachal Pradesh': 331, 'Jammu and Kashmir': 2976, 'Jharkhand': 687, 'Karnataka': 11970, 'Kerala': 2131, 'Ladakh': 178, 'Lakshadweep': 0, 'Madhya Pradesh': 2772, 'Maharashtra': 83311, 'Manipur': 658, 'Meghalaya': 18, 'Mizoram': 34, 'Nagaland': 335, 'Odisha': 2633, 'Puducherry': 459, 'Punjab': 1641, 'Rajasthan': 3445, 'Sikkim': 45, 'Tamil Nadu': 44959, 'Telengana': 10487, 'Tripura': 343, 'Uttar Pradesh': 7627, 'Uttarakhand': 549, 'West Bengal': 6329}\n"
     ]
    }
   ],
   "source": [
    "dict1={\"Andaman and nicobar\":53,\"Andhra Pradesh\":9473,\"Arunachal Pradesh\":182,\"Assam\":3997,\"Bihar\":2925,\"Chandigarh\":59,\n",
    " \"Chhattisgarh\":598,\"Dadra and Nagar Haveli\":175,\"Delhi\":25940,\"Goa\":853,\"Gujarat\":7981,\"Haryana\":4031,\n",
    "\"Himachal Pradesh\":331,\"Jammu and Kashmir\":2976,\"Jharkhand\":687,\"Karnataka\":11970,\"Kerala\":2131,\"Ladakh\":178,\"Lakshadweep\":0,\n",
    "\"Madhya Pradesh\":2772,\"Maharashtra\":83311,\"Manipur\":658,\"Meghalaya\":18,\"Mizoram\":34,\"Nagaland\":335,\"Odisha\":2633,\n",
    "\"Puducherry\":459,\"Punjab\":1641,\"Rajasthan\":3445,\"Sikkim\":45,\"Tamil Nadu\":44959,\"Telengana\":10487,\"Tripura\":343,\n",
    "   \"Uttar Pradesh\":7627,\"Uttarakhand\":549,\"West Bengal\":6329}\n",
    "print(dict1)"
   ]
  },
  {
   "cell_type": "markdown",
   "metadata": {},
   "source": [
    "# <h1>DAY:2</h1>\n",
    "## <h2>SESSION:1</h2>\n",
    "### <h3><i>IN SESSION EXERSICE:</i></h3>"
   ]
  },
  {
   "cell_type": "code",
   "execution_count": 55,
   "metadata": {},
   "outputs": [
    {
     "name": "stdout",
     "output_type": "stream",
     "text": [
      "5732\n"
     ]
    }
   ],
   "source": [
    "#USE IFR FUNCTION AND CALCULATE THE IFR... BUILD A FUNCTION FOR CMR(CRUDE MORTALITY RATE)\n",
    "infected_total_till_date=136596\n",
    "recovered_till_date=67890\n",
    "deaths_till_date=5732\n",
    "District=\"Mumbai\"\n",
    "print(deaths_till_date)"
   ]
  },
  {
   "cell_type": "code",
   "execution_count": 57,
   "metadata": {},
   "outputs": [
    {
     "name": "stdout",
     "output_type": "stream",
     "text": [
      "8.342793933572032\n"
     ]
    }
   ],
   "source": [
    "ifr=(( deaths_till_date/(infected_total_till_date-recovered_till_date))*100)\n",
    "print(ifr)"
   ]
  },
  {
   "cell_type": "code",
   "execution_count": 58,
   "metadata": {},
   "outputs": [
    {
     "name": "stdout",
     "output_type": "stream",
     "text": [
      "4.196316143957364\n"
     ]
    }
   ],
   "source": [
    "cmr=(( deaths_till_date/infected_total_till_date)*100)\n",
    "print(cmr)"
   ]
  },
  {
   "cell_type": "code",
   "execution_count": null,
   "metadata": {},
   "outputs": [],
   "source": []
  }
 ],
 "metadata": {
  "kernelspec": {
   "display_name": "Python 3",
   "language": "python",
   "name": "python3"
  },
  "language_info": {
   "codemirror_mode": {
    "name": "ipython",
    "version": 3
   },
   "file_extension": ".py",
   "mimetype": "text/x-python",
   "name": "python",
   "nbconvert_exporter": "python",
   "pygments_lexer": "ipython3",
   "version": "3.7.6"
  }
 },
 "nbformat": 4,
 "nbformat_minor": 4
}
