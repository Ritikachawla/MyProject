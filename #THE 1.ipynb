{
 "cells": [
  {
   "cell_type": "code",
   "execution_count": 1,
   "metadata": {},
   "outputs": [
    {
     "name": "stdout",
     "output_type": "stream",
     "text": [
      "['Andaman and nicobar', 'Andhra Pradesh', 'Arunachal Pradesh', 'Assam', 'Bihar', 'Chandigarh', 'Chhattisgarh', 'Dadra and Nagar Haveli', 'Delhi', 'Goa', 'Gujarat', 'Haryana', 'Himachal Pradesh', 'Jammu and Kashmir', 'Jharkhand', 'Karnataka', 'Kerala', 'Ladakh', 'Lakshadweep', 'Madhya Pradesh', 'Maharashtra', 'Manipur', 'Meghalaya', 'Mizoram', 'Nagaland', 'Odisha', 'Puducherry', 'Punjab', 'Rajasthan', 'Sikkim', 'Tamil Nadu', 'Telengana', 'Tripura', 'Uttar Pradesh', 'Uttarakhand', 'West Bengal']\n"
     ]
    }
   ],
   "source": [
    "list1=[\"Andaman and nicobar\",\"Andhra Pradesh\",\"Arunachal Pradesh\",\"Assam\",\"Bihar\",\"Chandigarh\",\"Chhattisgarh\",\n",
    "\"Dadra and Nagar Haveli\",\"Delhi\",\"Goa\",\"Gujarat\",\"Haryana\",\"Himachal Pradesh\",\"Jammu and Kashmir\",\"Jharkhand\",\"Karnataka\",\n",
    "\"Kerala\",\"Ladakh\",\"Lakshadweep\",\"Madhya Pradesh\",\"Maharashtra\",\"Manipur\",\"Meghalaya\",\"Mizoram\",\"Nagaland\",\"Odisha\",\"Puducherry\",\n",
    "\"Punjab\",\"Rajasthan\",\"Sikkim\",\"Tamil Nadu\",\"Telengana\",\"Tripura\",\"Uttar Pradesh\",\"Uttarakhand\",\"West Bengal\"]\n",
    "print(list1)"
   ]
  },
  {
   "cell_type": "code",
   "execution_count": 2,
   "metadata": {},
   "outputs": [
    {
     "name": "stdout",
     "output_type": "stream",
     "text": [
      "[53, 9473, 182, 3997, 2925, 59, 598, 175, 25940, 853, 7981, 4031, 331, 2976, 687, 11970, 2131, 178, 0, 2772, 83311, 658, 18, 34, 335, 2633, 459, 1641, 3445, 45, 44959, 10487, 343, 7627, 549, 6329]\n"
     ]
    }
   ],
   "source": [
    "list2=[53,9473,182,3997,2925,59,598,175,25940,853,7981,4031,331,2976,687,11970,2131,178,0,2772,83311,658,18,34,335,2633,459,\n",
    "1641,3445,45,44959,10487,343,7627,549,6329]\n",
    "print(list2)"
   ]
  },
  {
   "cell_type": "code",
   "execution_count": 3,
   "metadata": {},
   "outputs": [
    {
     "name": "stdout",
     "output_type": "stream",
     "text": [
      "(8008, 76, 6657, 8686, 395, 2549, 96, 68256, 825, 25406, 12257, 704, 5143, 2035, 9244, 3048, 826, 0, 11234, 108082, 667, 43, 130, 228, 5934, 331, 4306, 15640, 58, 60592, 11537, 1202, 18154, 2502, 14166)\n"
     ]
    }
   ],
   "source": [
    "tuple=(8008,76,6657,8686,395,2549,96,68256,825,25406,12257,704,5143,2035,9244,3048,826,0,11234,108082,667,43,130,228,5934,331,\n",
    "4306,15640,58,60592,11537,1202,18154,2502,14166)\n",
    "print(tuple)"
   ]
  },
  {
   "cell_type": "code",
   "execution_count": 4,
   "metadata": {},
   "outputs": [
    {
     "name": "stdout",
     "output_type": "stream",
     "text": [
      "{'Andaman and nicobar': 53, 'Andhra Pradesh': 9473, 'Arunachal Pradesh': 182, 'Assam': 3997, 'Bihar': 2925, 'Chandigarh': 59, 'Chhattisgarh': 598, 'Dadra and Nagar Haveli': 175, 'Delhi': 25940, 'Goa': 853, 'Gujarat': 7981, 'Haryana': 4031, 'Himachal Pradesh': 331, 'Jammu and Kashmir': 2976, 'Jharkhand': 687, 'Karnataka': 11970, 'Kerala': 2131, 'Ladakh': 178, 'Lakshadweep': 0, 'Madhya Pradesh': 2772, 'Maharashtra': 83311, 'Manipur': 658, 'Meghalaya': 18, 'Mizoram': 34, 'Nagaland': 335, 'Odisha': 2633, 'Puducherry': 459, 'Punjab': 1641, 'Rajasthan': 3445, 'Sikkim': 45, 'Tamil Nadu': 44959, 'Telengana': 10487, 'Tripura': 343, 'Uttar Pradesh': 7627, 'Uttarakhand': 549, 'West Bengal': 6329}\n"
     ]
    }
   ],
   "source": [
    "dict1={\"Andaman and nicobar\":53,\"Andhra Pradesh\":9473,\"Arunachal Pradesh\":182,\"Assam\":3997,\"Bihar\":2925,\"Chandigarh\":59,\n",
    " \"Chhattisgarh\":598,\"Dadra and Nagar Haveli\":175,\"Delhi\":25940,\"Goa\":853,\"Gujarat\":7981,\"Haryana\":4031,\n",
    "\"Himachal Pradesh\":331,\"Jammu and Kashmir\":2976,\"Jharkhand\":687,\"Karnataka\":11970,\"Kerala\":2131,\"Ladakh\":178,\"Lakshadweep\":0,\n",
    "\"Madhya Pradesh\":2772,\"Maharashtra\":83311,\"Manipur\":658,\"Meghalaya\":18,\"Mizoram\":34,\"Nagaland\":335,\"Odisha\":2633,\n",
    "\"Puducherry\":459,\"Punjab\":1641,\"Rajasthan\":3445,\"Sikkim\":45,\"Tamil Nadu\":44959,\"Telengana\":10487,\"Tripura\":343,\n",
    "   \"Uttar Pradesh\":7627,\"Uttarakhand\":549,\"West Bengal\":6329}\n",
    "print(dict1)"
   ]
  },
  {
   "cell_type": "code",
   "execution_count": null,
   "metadata": {},
   "outputs": [],
   "source": []
  }
 ],
 "metadata": {
  "kernelspec": {
   "display_name": "Python 3",
   "language": "python",
   "name": "python3"
  },
  "language_info": {
   "codemirror_mode": {
    "name": "ipython",
    "version": 3
   },
   "file_extension": ".py",
   "mimetype": "text/x-python",
   "name": "python",
   "nbconvert_exporter": "python",
   "pygments_lexer": "ipython3",
   "version": "3.7.6"
  }
 },
 "nbformat": 4,
 "nbformat_minor": 4
}
